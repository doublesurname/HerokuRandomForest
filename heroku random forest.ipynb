{
 "cells": [
  {
   "cell_type": "code",
   "execution_count": 1,
   "metadata": {},
   "outputs": [],
   "source": [
    "import numpy as np\n",
    "import pandas as pd \n",
    "import matplotlib.pyplot as plt\n",
    "import seaborn as sns"
   ]
  },
  {
   "cell_type": "code",
   "execution_count": 2,
   "metadata": {},
   "outputs": [],
   "source": [
    "df= pd.read_csv(\"Credit Card Default II (balance).csv\")"
   ]
  },
  {
   "cell_type": "code",
   "execution_count": 3,
   "metadata": {},
   "outputs": [
    {
     "name": "stderr",
     "output_type": "stream",
     "text": [
      "C:\\Users\\kebom\\anaconda3\\lib\\site-packages\\ipykernel_launcher.py:4: DeprecationWarning: `np.float` is a deprecated alias for the builtin `float`. To silence this warning, use `float` by itself. Doing this will not modify any behavior and is safe. If you specifically wanted the numpy scalar type, use `np.float64` here.\n",
      "Deprecated in NumPy 1.20; for more details and guidance: https://numpy.org/devdocs/release/1.20.0-notes.html#deprecations\n",
      "  after removing the cwd from sys.path.\n"
     ]
    }
   ],
   "source": [
    "#remove outlier\n",
    "import numpy as np\n",
    "from scipy import stats\n",
    "z = stats.zscore(df.astype(np.float)) #zscore conversion need float\n",
    "z = np.abs(z) #convert all to positive because the parity is not important\n",
    "f = (z < 3).all(axis=1) #3 is your choice, axis =1 means by columns, f is a flag\n",
    "\n",
    "df = df[f]"
   ]
  },
  {
   "cell_type": "code",
   "execution_count": 4,
   "metadata": {},
   "outputs": [
    {
     "data": {
      "text/html": [
       "<div>\n",
       "<style scoped>\n",
       "    .dataframe tbody tr th:only-of-type {\n",
       "        vertical-align: middle;\n",
       "    }\n",
       "\n",
       "    .dataframe tbody tr th {\n",
       "        vertical-align: top;\n",
       "    }\n",
       "\n",
       "    .dataframe thead th {\n",
       "        text-align: right;\n",
       "    }\n",
       "</style>\n",
       "<table border=\"1\" class=\"dataframe\">\n",
       "  <thead>\n",
       "    <tr style=\"text-align: right;\">\n",
       "      <th></th>\n",
       "      <th>income</th>\n",
       "      <th>age</th>\n",
       "      <th>loan</th>\n",
       "      <th>default</th>\n",
       "    </tr>\n",
       "  </thead>\n",
       "  <tbody>\n",
       "    <tr>\n",
       "      <th>0</th>\n",
       "      <td>66155.92510</td>\n",
       "      <td>59.017015</td>\n",
       "      <td>8106.532131</td>\n",
       "      <td>0</td>\n",
       "    </tr>\n",
       "    <tr>\n",
       "      <th>1</th>\n",
       "      <td>34415.15397</td>\n",
       "      <td>48.117153</td>\n",
       "      <td>6564.745018</td>\n",
       "      <td>0</td>\n",
       "    </tr>\n",
       "    <tr>\n",
       "      <th>2</th>\n",
       "      <td>57317.17006</td>\n",
       "      <td>63.108049</td>\n",
       "      <td>8020.953296</td>\n",
       "      <td>0</td>\n",
       "    </tr>\n",
       "    <tr>\n",
       "      <th>3</th>\n",
       "      <td>42709.53420</td>\n",
       "      <td>45.751972</td>\n",
       "      <td>6103.642260</td>\n",
       "      <td>0</td>\n",
       "    </tr>\n",
       "    <tr>\n",
       "      <th>4</th>\n",
       "      <td>66952.68885</td>\n",
       "      <td>18.584336</td>\n",
       "      <td>8770.099235</td>\n",
       "      <td>1</td>\n",
       "    </tr>\n",
       "    <tr>\n",
       "      <th>5</th>\n",
       "      <td>24904.06414</td>\n",
       "      <td>57.471607</td>\n",
       "      <td>15.498598</td>\n",
       "      <td>0</td>\n",
       "    </tr>\n",
       "    <tr>\n",
       "      <th>6</th>\n",
       "      <td>48430.35961</td>\n",
       "      <td>26.809132</td>\n",
       "      <td>5722.581981</td>\n",
       "      <td>0</td>\n",
       "    </tr>\n",
       "    <tr>\n",
       "      <th>7</th>\n",
       "      <td>24500.14198</td>\n",
       "      <td>32.897548</td>\n",
       "      <td>2971.003310</td>\n",
       "      <td>1</td>\n",
       "    </tr>\n",
       "    <tr>\n",
       "      <th>8</th>\n",
       "      <td>40654.89254</td>\n",
       "      <td>55.496853</td>\n",
       "      <td>4755.825280</td>\n",
       "      <td>0</td>\n",
       "    </tr>\n",
       "    <tr>\n",
       "      <th>9</th>\n",
       "      <td>25075.87277</td>\n",
       "      <td>39.776378</td>\n",
       "      <td>1409.230371</td>\n",
       "      <td>0</td>\n",
       "    </tr>\n",
       "    <tr>\n",
       "      <th>10</th>\n",
       "      <td>64131.41537</td>\n",
       "      <td>25.679575</td>\n",
       "      <td>4351.028971</td>\n",
       "      <td>0</td>\n",
       "    </tr>\n",
       "    <tr>\n",
       "      <th>11</th>\n",
       "      <td>59436.84712</td>\n",
       "      <td>60.471936</td>\n",
       "      <td>9254.244538</td>\n",
       "      <td>0</td>\n",
       "    </tr>\n",
       "    <tr>\n",
       "      <th>12</th>\n",
       "      <td>61050.34608</td>\n",
       "      <td>26.355044</td>\n",
       "      <td>5893.264659</td>\n",
       "      <td>0</td>\n",
       "    </tr>\n",
       "    <tr>\n",
       "      <th>13</th>\n",
       "      <td>27267.99546</td>\n",
       "      <td>61.576776</td>\n",
       "      <td>4759.787581</td>\n",
       "      <td>0</td>\n",
       "    </tr>\n",
       "    <tr>\n",
       "      <th>14</th>\n",
       "      <td>63061.96017</td>\n",
       "      <td>39.201553</td>\n",
       "      <td>1850.369377</td>\n",
       "      <td>0</td>\n",
       "    </tr>\n",
       "    <tr>\n",
       "      <th>16</th>\n",
       "      <td>43548.65471</td>\n",
       "      <td>39.574530</td>\n",
       "      <td>3935.544453</td>\n",
       "      <td>0</td>\n",
       "    </tr>\n",
       "    <tr>\n",
       "      <th>17</th>\n",
       "      <td>43378.17519</td>\n",
       "      <td>60.848318</td>\n",
       "      <td>3277.737553</td>\n",
       "      <td>0</td>\n",
       "    </tr>\n",
       "  </tbody>\n",
       "</table>\n",
       "</div>"
      ],
      "text/plain": [
       "         income        age         loan  default\n",
       "0   66155.92510  59.017015  8106.532131        0\n",
       "1   34415.15397  48.117153  6564.745018        0\n",
       "2   57317.17006  63.108049  8020.953296        0\n",
       "3   42709.53420  45.751972  6103.642260        0\n",
       "4   66952.68885  18.584336  8770.099235        1\n",
       "5   24904.06414  57.471607    15.498598        0\n",
       "6   48430.35961  26.809132  5722.581981        0\n",
       "7   24500.14198  32.897548  2971.003310        1\n",
       "8   40654.89254  55.496853  4755.825280        0\n",
       "9   25075.87277  39.776378  1409.230371        0\n",
       "10  64131.41537  25.679575  4351.028971        0\n",
       "11  59436.84712  60.471936  9254.244538        0\n",
       "12  61050.34608  26.355044  5893.264659        0\n",
       "13  27267.99546  61.576776  4759.787581        0\n",
       "14  63061.96017  39.201553  1850.369377        0\n",
       "16  43548.65471  39.574530  3935.544453        0\n",
       "17  43378.17519  60.848318  3277.737553        0"
      ]
     },
     "execution_count": 4,
     "metadata": {},
     "output_type": "execute_result"
    }
   ],
   "source": [
    "df.head(17)"
   ]
  },
  {
   "cell_type": "code",
   "execution_count": 5,
   "metadata": {},
   "outputs": [],
   "source": [
    "X = df.loc[:,[\"income\", \"age\", \"loan\"]]\n",
    "Y = df.loc[:,[\"default\"]]"
   ]
  },
  {
   "cell_type": "code",
   "execution_count": 6,
   "metadata": {},
   "outputs": [
    {
     "name": "stdout",
     "output_type": "stream",
     "text": [
      "        income       age      loan\n",
      "0     1.457403  1.909165  0.792201\n",
      "1    -0.743092  1.047710  0.306524\n",
      "2     0.844638  2.232494  0.765243\n",
      "3    -0.168066  0.860782  0.161272\n",
      "4     1.512641 -1.286373  1.001231\n",
      "...        ...       ...       ...\n",
      "3423  1.093247 -1.021644  1.504295\n",
      "3424  1.185622 -0.776711  0.785072\n",
      "3425 -1.354369 -0.672598 -0.561212\n",
      "3426  0.210089 -0.926167  0.295469\n",
      "3427 -0.837331 -0.677398 -0.075549\n",
      "\n",
      "[3425 rows x 3 columns]\n"
     ]
    },
    {
     "name": "stderr",
     "output_type": "stream",
     "text": [
      "C:\\Users\\kebom\\anaconda3\\lib\\site-packages\\ipykernel_launcher.py:6: DeprecationWarning: `np.float` is a deprecated alias for the builtin `float`. To silence this warning, use `float` by itself. Doing this will not modify any behavior and is safe. If you specifically wanted the numpy scalar type, use `np.float64` here.\n",
      "Deprecated in NumPy 1.20; for more details and guidance: https://numpy.org/devdocs/release/1.20.0-notes.html#deprecations\n",
      "  \n"
     ]
    }
   ],
   "source": [
    "#normalization\n",
    "from scipy import stats\n",
    "import numpy as np\n",
    "pd.set_option('display.max_rows', 10)\n",
    "for i in X.columns:\n",
    "    X[i]=stats.zscore(X[i].astype(np.float))\n",
    "print(X)"
   ]
  },
  {
   "cell_type": "code",
   "execution_count": 7,
   "metadata": {},
   "outputs": [
    {
     "name": "stdout",
     "output_type": "stream",
     "text": [
      "        income       age      loan\n",
      "2630 -1.733414 -0.704767 -0.945874\n",
      "1377 -0.758551 -0.542434 -0.112780\n",
      "3173  0.504698 -0.735567  1.376754\n",
      "2206  0.146710 -0.822161  0.575682\n",
      "2887  0.494470 -0.057724  1.438482\n",
      "...        ...       ...       ...\n",
      "2429  0.626793 -0.746258  1.556502\n",
      "632   1.279194  1.144351 -1.259001\n",
      "391   0.752939 -0.294113 -1.547031\n",
      "3409  1.093126 -0.396237  1.510563\n",
      "325  -0.616411  0.359985  0.030654\n",
      "\n",
      "[2397 rows x 3 columns]         income       age      loan\n",
      "1346 -0.397982  1.413013 -0.055640\n",
      "610   0.292455  1.792602 -0.702127\n",
      "95    0.587063 -1.155471  1.263091\n",
      "1888 -0.148298  0.123686 -0.358436\n",
      "874  -1.357361  0.627233 -0.428970\n",
      "...        ...       ...       ...\n",
      "883  -0.418163 -0.439408 -0.438173\n",
      "2185  0.768232 -0.911787  0.566396\n",
      "1279  1.002142 -1.126297 -0.441003\n",
      "2012 -0.786013 -0.266842  0.063950\n",
      "1264 -1.435608 -0.012978 -1.501917\n",
      "\n",
      "[1028 rows x 3 columns]       default\n",
      "2630        1\n",
      "1377        1\n",
      "3173        1\n",
      "2206        1\n",
      "2887        1\n",
      "...       ...\n",
      "2429        1\n",
      "632         0\n",
      "391         0\n",
      "3409        1\n",
      "325         0\n",
      "\n",
      "[2397 rows x 1 columns]       default\n",
      "1346        0\n",
      "610         0\n",
      "95          1\n",
      "1888        0\n",
      "874         0\n",
      "...       ...\n",
      "883         0\n",
      "2185        1\n",
      "1279        0\n",
      "2012        1\n",
      "1264        0\n",
      "\n",
      "[1028 rows x 1 columns]\n"
     ]
    }
   ],
   "source": [
    "#split, train, test and predict\n",
    "from sklearn.model_selection import train_test_split\n",
    "\n",
    "X_train, X_test, Y_train, Y_test = train_test_split(X,Y, test_size=0.3)\n",
    "print(X_train, X_test, Y_train, Y_test )\n"
   ]
  },
  {
   "cell_type": "code",
   "execution_count": 8,
   "metadata": {},
   "outputs": [],
   "source": [
    "# Setting the seed to 10\n",
    "import numpy as np\n",
    "np.random.seed(10)"
   ]
  },
  {
   "cell_type": "code",
   "execution_count": 9,
   "metadata": {},
   "outputs": [
    {
     "name": "stderr",
     "output_type": "stream",
     "text": [
      "C:\\Users\\kebom\\anaconda3\\lib\\site-packages\\ipykernel_launcher.py:3: DataConversionWarning: A column-vector y was passed when a 1d array was expected. Please change the shape of y to (n_samples,), for example using ravel().\n",
      "  This is separate from the ipykernel package so we can avoid doing imports until\n"
     ]
    },
    {
     "name": "stdout",
     "output_type": "stream",
     "text": [
      "[[1213    0]\n",
      " [   0 1184]]\n",
      "1.0\n",
      "[[491   7]\n",
      " [  1 529]]\n",
      "0.9922178988326849\n"
     ]
    }
   ],
   "source": [
    "from sklearn.ensemble import RandomForestClassifier\n",
    "model = RandomForestClassifier()\n",
    "model.fit(X_train, Y_train)\n",
    "pred = model.predict(X_train)\n",
    "\n",
    "from sklearn.metrics import confusion_matrix\n",
    "cm = confusion_matrix(Y_train, pred)\n",
    "print(cm)\n",
    "\n",
    "accuracy = (cm[0,0] + cm[1,1])/sum(sum(cm))\n",
    "\n",
    "print(accuracy)\n",
    "\n",
    "pred = model.predict(X_test)\n",
    "cm = confusion_matrix(Y_test, pred)\n",
    "print(cm)\n",
    "accuracy = (cm[0,0] + cm[1,1])/sum(sum(cm))\n",
    "\n",
    "print(accuracy)"
   ]
  },
  {
   "cell_type": "code",
   "execution_count": 10,
   "metadata": {},
   "outputs": [
    {
     "data": {
      "text/plain": [
       "['HerokuRandomForestDefault']"
      ]
     },
     "execution_count": 10,
     "metadata": {},
     "output_type": "execute_result"
    }
   ],
   "source": [
    "import joblib \n",
    "joblib.dump(model,\"HerokuRandomForestDefault\")"
   ]
  },
  {
   "cell_type": "code",
   "execution_count": null,
   "metadata": {},
   "outputs": [],
   "source": []
  }
 ],
 "metadata": {
  "kernelspec": {
   "display_name": "Python 3",
   "language": "python",
   "name": "python3"
  },
  "language_info": {
   "codemirror_mode": {
    "name": "ipython",
    "version": 3
   },
   "file_extension": ".py",
   "mimetype": "text/x-python",
   "name": "python",
   "nbconvert_exporter": "python",
   "pygments_lexer": "ipython3",
   "version": "3.7.6"
  }
 },
 "nbformat": 4,
 "nbformat_minor": 4
}
