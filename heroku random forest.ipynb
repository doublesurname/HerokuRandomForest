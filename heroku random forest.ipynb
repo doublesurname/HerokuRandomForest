{
 "cells": [
  {
   "cell_type": "code",
   "execution_count": 1,
   "metadata": {},
   "outputs": [],
   "source": [
    "import numpy as np\n",
    "import pandas as pd \n",
    "import matplotlib.pyplot as plt\n",
    "import seaborn as sns"
   ]
  },
  {
   "cell_type": "code",
   "execution_count": 2,
   "metadata": {},
   "outputs": [],
   "source": [
    "df= pd.read_csv(\"Credit Card Default II (balance).csv\")"
   ]
  },
  {
   "cell_type": "code",
   "execution_count": 3,
   "metadata": {},
   "outputs": [
    {
     "name": "stderr",
     "output_type": "stream",
     "text": [
      "C:\\Users\\kebom\\anaconda3\\lib\\site-packages\\ipykernel_launcher.py:4: DeprecationWarning: `np.float` is a deprecated alias for the builtin `float`. To silence this warning, use `float` by itself. Doing this will not modify any behavior and is safe. If you specifically wanted the numpy scalar type, use `np.float64` here.\n",
      "Deprecated in NumPy 1.20; for more details and guidance: https://numpy.org/devdocs/release/1.20.0-notes.html#deprecations\n",
      "  after removing the cwd from sys.path.\n"
     ]
    }
   ],
   "source": [
    "#remove outlier\n",
    "import numpy as np\n",
    "from scipy import stats\n",
    "z = stats.zscore(df.astype(np.float)) #zscore conversion need float\n",
    "z = np.abs(z) #convert all to positive because the parity is not important\n",
    "f = (z < 3).all(axis=1) #3 is your choice, axis =1 means by columns, f is a flag\n",
    "\n",
    "df = df[f]"
   ]
  },
  {
   "cell_type": "code",
   "execution_count": 4,
   "metadata": {},
   "outputs": [
    {
     "data": {
      "text/html": [
       "<div>\n",
       "<style scoped>\n",
       "    .dataframe tbody tr th:only-of-type {\n",
       "        vertical-align: middle;\n",
       "    }\n",
       "\n",
       "    .dataframe tbody tr th {\n",
       "        vertical-align: top;\n",
       "    }\n",
       "\n",
       "    .dataframe thead th {\n",
       "        text-align: right;\n",
       "    }\n",
       "</style>\n",
       "<table border=\"1\" class=\"dataframe\">\n",
       "  <thead>\n",
       "    <tr style=\"text-align: right;\">\n",
       "      <th></th>\n",
       "      <th>income</th>\n",
       "      <th>age</th>\n",
       "      <th>loan</th>\n",
       "      <th>default</th>\n",
       "    </tr>\n",
       "  </thead>\n",
       "  <tbody>\n",
       "    <tr>\n",
       "      <th>0</th>\n",
       "      <td>66155.92510</td>\n",
       "      <td>59.017015</td>\n",
       "      <td>8106.532131</td>\n",
       "      <td>0</td>\n",
       "    </tr>\n",
       "    <tr>\n",
       "      <th>1</th>\n",
       "      <td>34415.15397</td>\n",
       "      <td>48.117153</td>\n",
       "      <td>6564.745018</td>\n",
       "      <td>0</td>\n",
       "    </tr>\n",
       "    <tr>\n",
       "      <th>2</th>\n",
       "      <td>57317.17006</td>\n",
       "      <td>63.108049</td>\n",
       "      <td>8020.953296</td>\n",
       "      <td>0</td>\n",
       "    </tr>\n",
       "    <tr>\n",
       "      <th>3</th>\n",
       "      <td>42709.53420</td>\n",
       "      <td>45.751972</td>\n",
       "      <td>6103.642260</td>\n",
       "      <td>0</td>\n",
       "    </tr>\n",
       "    <tr>\n",
       "      <th>4</th>\n",
       "      <td>66952.68885</td>\n",
       "      <td>18.584336</td>\n",
       "      <td>8770.099235</td>\n",
       "      <td>1</td>\n",
       "    </tr>\n",
       "    <tr>\n",
       "      <th>5</th>\n",
       "      <td>24904.06414</td>\n",
       "      <td>57.471607</td>\n",
       "      <td>15.498598</td>\n",
       "      <td>0</td>\n",
       "    </tr>\n",
       "    <tr>\n",
       "      <th>6</th>\n",
       "      <td>48430.35961</td>\n",
       "      <td>26.809132</td>\n",
       "      <td>5722.581981</td>\n",
       "      <td>0</td>\n",
       "    </tr>\n",
       "    <tr>\n",
       "      <th>7</th>\n",
       "      <td>24500.14198</td>\n",
       "      <td>32.897548</td>\n",
       "      <td>2971.003310</td>\n",
       "      <td>1</td>\n",
       "    </tr>\n",
       "    <tr>\n",
       "      <th>8</th>\n",
       "      <td>40654.89254</td>\n",
       "      <td>55.496853</td>\n",
       "      <td>4755.825280</td>\n",
       "      <td>0</td>\n",
       "    </tr>\n",
       "    <tr>\n",
       "      <th>9</th>\n",
       "      <td>25075.87277</td>\n",
       "      <td>39.776378</td>\n",
       "      <td>1409.230371</td>\n",
       "      <td>0</td>\n",
       "    </tr>\n",
       "    <tr>\n",
       "      <th>10</th>\n",
       "      <td>64131.41537</td>\n",
       "      <td>25.679575</td>\n",
       "      <td>4351.028971</td>\n",
       "      <td>0</td>\n",
       "    </tr>\n",
       "    <tr>\n",
       "      <th>11</th>\n",
       "      <td>59436.84712</td>\n",
       "      <td>60.471936</td>\n",
       "      <td>9254.244538</td>\n",
       "      <td>0</td>\n",
       "    </tr>\n",
       "    <tr>\n",
       "      <th>12</th>\n",
       "      <td>61050.34608</td>\n",
       "      <td>26.355044</td>\n",
       "      <td>5893.264659</td>\n",
       "      <td>0</td>\n",
       "    </tr>\n",
       "    <tr>\n",
       "      <th>13</th>\n",
       "      <td>27267.99546</td>\n",
       "      <td>61.576776</td>\n",
       "      <td>4759.787581</td>\n",
       "      <td>0</td>\n",
       "    </tr>\n",
       "    <tr>\n",
       "      <th>14</th>\n",
       "      <td>63061.96017</td>\n",
       "      <td>39.201553</td>\n",
       "      <td>1850.369377</td>\n",
       "      <td>0</td>\n",
       "    </tr>\n",
       "    <tr>\n",
       "      <th>16</th>\n",
       "      <td>43548.65471</td>\n",
       "      <td>39.574530</td>\n",
       "      <td>3935.544453</td>\n",
       "      <td>0</td>\n",
       "    </tr>\n",
       "    <tr>\n",
       "      <th>17</th>\n",
       "      <td>43378.17519</td>\n",
       "      <td>60.848318</td>\n",
       "      <td>3277.737553</td>\n",
       "      <td>0</td>\n",
       "    </tr>\n",
       "  </tbody>\n",
       "</table>\n",
       "</div>"
      ],
      "text/plain": [
       "         income        age         loan  default\n",
       "0   66155.92510  59.017015  8106.532131        0\n",
       "1   34415.15397  48.117153  6564.745018        0\n",
       "2   57317.17006  63.108049  8020.953296        0\n",
       "3   42709.53420  45.751972  6103.642260        0\n",
       "4   66952.68885  18.584336  8770.099235        1\n",
       "5   24904.06414  57.471607    15.498598        0\n",
       "6   48430.35961  26.809132  5722.581981        0\n",
       "7   24500.14198  32.897548  2971.003310        1\n",
       "8   40654.89254  55.496853  4755.825280        0\n",
       "9   25075.87277  39.776378  1409.230371        0\n",
       "10  64131.41537  25.679575  4351.028971        0\n",
       "11  59436.84712  60.471936  9254.244538        0\n",
       "12  61050.34608  26.355044  5893.264659        0\n",
       "13  27267.99546  61.576776  4759.787581        0\n",
       "14  63061.96017  39.201553  1850.369377        0\n",
       "16  43548.65471  39.574530  3935.544453        0\n",
       "17  43378.17519  60.848318  3277.737553        0"
      ]
     },
     "execution_count": 4,
     "metadata": {},
     "output_type": "execute_result"
    }
   ],
   "source": [
    "df.head(17)"
   ]
  },
  {
   "cell_type": "code",
   "execution_count": 5,
   "metadata": {},
   "outputs": [],
   "source": [
    "X = df.loc[:,[\"income\", \"age\", \"loan\"]]\n",
    "Y = df.loc[:,[\"default\"]]"
   ]
  },
  {
   "cell_type": "code",
   "execution_count": 6,
   "metadata": {},
   "outputs": [
    {
     "name": "stdout",
     "output_type": "stream",
     "text": [
      "            income        age          loan\n",
      "2155  31072.395398  33.781473   4664.088571\n",
      "1959  35108.557950  40.743413   4002.991276\n",
      "2956  37996.649505  19.092861   4627.731331\n",
      "2865  20343.438476  27.633214   3328.549896\n",
      "716   51894.540100  59.003768   6579.534007\n",
      "...            ...        ...           ...\n",
      "2151  65962.435617  27.968317  13109.404007\n",
      "2822  33858.529001  30.324403   5724.154681\n",
      "1041  58176.154930  52.175760   9852.141110\n",
      "1229  53284.119680  32.143215    849.545184\n",
      "2161  38690.723835  20.186333   5859.091155\n",
      "\n",
      "[2397 rows x 3 columns]             income        age          loan\n",
      "2621  29467.560224  22.785756   3708.338501\n",
      "2702  20793.034164  28.137397   3084.499904\n",
      "1609  61922.774640  24.808657   1933.082920\n",
      "197   54619.947200  52.424422  10780.271880\n",
      "207   49589.153720  42.775256   2627.405488\n",
      "...            ...        ...           ...\n",
      "1431  64029.543480  36.157751   1644.339177\n",
      "1262  34476.706380  23.350987    898.133907\n",
      "2148  63303.480220  23.442760  11187.647424\n",
      "1723  60974.587140  33.895749   6165.658820\n",
      "2485  28301.594445  25.941860   4147.230818\n",
      "\n",
      "[1028 rows x 3 columns]       default\n",
      "2155        1\n",
      "1959        0\n",
      "2956        1\n",
      "2865        1\n",
      "716         0\n",
      "...       ...\n",
      "2151        1\n",
      "2822        1\n",
      "1041        0\n",
      "1229        0\n",
      "2161        1\n",
      "\n",
      "[2397 rows x 1 columns]       default\n",
      "2621        1\n",
      "2702        1\n",
      "1609        0\n",
      "197         0\n",
      "207         0\n",
      "...       ...\n",
      "1431        0\n",
      "1262        0\n",
      "2148        1\n",
      "1723        0\n",
      "2485        1\n",
      "\n",
      "[1028 rows x 1 columns]\n"
     ]
    }
   ],
   "source": [
    "#No normalisation as random forest does not require normalisation\n",
    "#split, train, test and predict\n",
    "from sklearn.model_selection import train_test_split\n",
    "\n",
    "X_train, X_test, Y_train, Y_test = train_test_split(X,Y, test_size=0.3)\n",
    "print(X_train, X_test, Y_train, Y_test )\n"
   ]
  },
  {
   "cell_type": "code",
   "execution_count": 7,
   "metadata": {},
   "outputs": [
    {
     "name": "stderr",
     "output_type": "stream",
     "text": [
      "C:\\Users\\kebom\\anaconda3\\lib\\site-packages\\ipykernel_launcher.py:3: DataConversionWarning: A column-vector y was passed when a 1d array was expected. Please change the shape of y to (n_samples,), for example using ravel().\n",
      "  This is separate from the ipykernel package so we can avoid doing imports until\n"
     ]
    },
    {
     "name": "stdout",
     "output_type": "stream",
     "text": [
      "[[1207    0]\n",
      " [   0 1190]]\n",
      "1.0\n",
      "[[499   5]\n",
      " [  0 524]]\n",
      "0.995136186770428\n"
     ]
    }
   ],
   "source": [
    "from sklearn.ensemble import RandomForestClassifier\n",
    "model = RandomForestClassifier()\n",
    "model.fit(X_train, Y_train)\n",
    "pred = model.predict(X_train)\n",
    "\n",
    "from sklearn.metrics import confusion_matrix\n",
    "cm = confusion_matrix(Y_train, pred)\n",
    "print(cm)\n",
    "\n",
    "accuracy = (cm[0,0] + cm[1,1])/sum(sum(cm))\n",
    "\n",
    "print(accuracy)\n",
    "\n",
    "pred = model.predict(X_test)\n",
    "cm = confusion_matrix(Y_test, pred)\n",
    "print(cm)\n",
    "accuracy = (cm[0,0] + cm[1,1])/sum(sum(cm))\n",
    "\n",
    "print(accuracy)"
   ]
  },
  {
   "cell_type": "code",
   "execution_count": 8,
   "metadata": {},
   "outputs": [
    {
     "data": {
      "text/plain": [
       "['HerokuRandomForestDefault']"
      ]
     },
     "execution_count": 8,
     "metadata": {},
     "output_type": "execute_result"
    }
   ],
   "source": [
    "import joblib \n",
    "joblib.dump(model,\"HerokuRandomForestDefault\")"
   ]
  },
  {
   "cell_type": "code",
   "execution_count": null,
   "metadata": {},
   "outputs": [],
   "source": []
  }
 ],
 "metadata": {
  "kernelspec": {
   "display_name": "Python 3",
   "language": "python",
   "name": "python3"
  },
  "language_info": {
   "codemirror_mode": {
    "name": "ipython",
    "version": 3
   },
   "file_extension": ".py",
   "mimetype": "text/x-python",
   "name": "python",
   "nbconvert_exporter": "python",
   "pygments_lexer": "ipython3",
   "version": "3.7.6"
  }
 },
 "nbformat": 4,
 "nbformat_minor": 4
}
